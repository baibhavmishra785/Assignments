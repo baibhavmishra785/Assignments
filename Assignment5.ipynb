{
  "nbformat": 4,
  "nbformat_minor": 0,
  "metadata": {
    "colab": {
      "provenance": []
    },
    "kernelspec": {
      "name": "python3",
      "display_name": "Python 3"
    },
    "language_info": {
      "name": "python"
    }
  },
  "cells": [
    {
      "cell_type": "markdown",
      "source": [
        "1. What does an empty dictionary&#39;s code look like?\n",
        "2. What is the value of a dictionary value with the key &#39;foo&#39; and the value 42?\n",
        "3. What is the most significant distinction between a dictionary and a list?\n",
        "4. What happens if you try to access spam[&#39;foo&#39;] if spam is {&#39;bar&#39;: 100}?\n",
        "5. If a dictionary is stored in spam, what is the difference between the expressions &#39;cat&#39; in spam and\n",
        "&#39;cat&#39; in spam.keys()?\n",
        "6. If a dictionary is stored in spam, what is the difference between the expressions &#39;cat&#39; in spam and\n",
        "&#39;cat&#39; in spam.values()?\n",
        "7. What is a shortcut for the following code?\n",
        "if &#39;color&#39; not in spam:\n",
        "spam[&#39;color&#39;] = &#39;black&#39;\n",
        "\n",
        "8. How do you &quot;pretty print&quot; dictionary values using which module and function?"
      ],
      "metadata": {
        "id": "72dCoszBJchm"
      }
    },
    {
      "cell_type": "code",
      "source": [
        "import logging\n",
        "logging.basicCinfig(filename='Assignment4', level = logging.INFO, format = '%(asctime)s %(name)s, %(message)s')\n",
        "logging.info('Assignment 4 begins.')"
      ],
      "metadata": {
        "id": "XooP0mXrKFpK"
      },
      "execution_count": null,
      "outputs": []
    },
    {
      "cell_type": "code",
      "source": [
        "try:\n",
        "  #1. empty_dict = {}\n",
        "  #2. The value of the given dictionary pair will bw 42.\n",
        "  #3. Lists are used to store the data, which should be ordered and sequential. On the other hand, dictionary is used to store large amounts of data for easy and quick access.\n",
        "  #4. A KeyError will be raised if we want to access spam['foo'].\n",
        "  #5. There is no difference between the cat in spam and cat in spam.keys().\n",
        "  #6. There is no difference between the cat in spam and cat in spam.values().\n",
        "  #7. Shortcut for the given code can be achieved using the dict.setdefault() method.\n",
        "  #8. The module used is the pprint module within which we have the pprint function of the same name.\n",
        "\n",
        "except Exception as e:\n",
        "  print('There is an exception.')\n",
        "  logging.info('There is an error.')"
      ],
      "metadata": {
        "id": "JIT8dD5eLG-M"
      },
      "execution_count": null,
      "outputs": []
    },
    {
      "cell_type": "code",
      "source": [
        "logging.info('Assignment 4 completed.')"
      ],
      "metadata": {
        "id": "KMqT8I5CN7pN"
      },
      "execution_count": null,
      "outputs": []
    }
  ]
}